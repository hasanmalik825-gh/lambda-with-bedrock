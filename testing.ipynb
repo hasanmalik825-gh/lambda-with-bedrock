{
 "cells": [
  {
   "cell_type": "code",
   "execution_count": 9,
   "metadata": {},
   "outputs": [],
   "source": [
    "import requests\n",
    "import json\n",
    "\n",
    "def test_lambda_function(url: str, content_topic: str):\n",
    "    # Your payload as a dictionary\n",
    "    payload = {\n",
    "        \"content_topic\": content_topic\n",
    "    }\n",
    "\n",
    "    # Making POST request with JSON body\n",
    "    response = requests.post(\n",
    "        url,\n",
    "        json=payload,  # This will handle the JSON serialization for you\n",
    "        headers={\n",
    "            'Content-Type': 'application/json'\n",
    "        }\n",
    "    )\n",
    "\n",
    "    # Print both status code and response\n",
    "    print(f\"Status Code: {response.status_code}\")\n",
    "    try:\n",
    "        print(\"Response:\", response.json())\n",
    "    except json.JSONDecodeError:\n",
    "        print(\"Raw Response:\", response.text)"
   ]
  },
  {
   "cell_type": "code",
   "execution_count": 10,
   "metadata": {},
   "outputs": [
    {
     "name": "stdout",
     "output_type": "stream",
     "text": [
      "Status Code: 200\n",
      "Response: {'message': 'Content Generation is completed', 'generated_content': ' Here is a 50-word content on the stock market:\\n\\nThe stock market is a platform where companies raise capital by issuing shares of stock to the public. Investors buy and sell these shares, hoping to profit from price fluctuations. Stocks are traded on exchanges', 's3_location': 's3://bedrock-content-saver-bucket/content-output/20250103_215153.txt'}\n"
     ]
    }
   ],
   "source": [
    "api_id=\"example-api-id\"\n",
    "test_lambda_function(f\"https://{api_id}.execute-api.us-east-1.amazonaws.com/dev/content-generation\",\"stock market\")"
   ]
  },
  {
   "cell_type": "code",
   "execution_count": null,
   "metadata": {},
   "outputs": [],
   "source": []
  }
 ],
 "metadata": {
  "kernelspec": {
   "display_name": "Python 3",
   "language": "python",
   "name": "python3"
  },
  "language_info": {
   "codemirror_mode": {
    "name": "ipython",
    "version": 3
   },
   "file_extension": ".py",
   "mimetype": "text/x-python",
   "name": "python",
   "nbconvert_exporter": "python",
   "pygments_lexer": "ipython3",
   "version": "3.11.0"
  }
 },
 "nbformat": 4,
 "nbformat_minor": 2
}
